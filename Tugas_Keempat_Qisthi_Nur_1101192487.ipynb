{
  "nbformat": 4,
  "nbformat_minor": 0,
  "metadata": {
    "colab": {
      "name": "Tugas Keempat_Qisthi Nur 1101192487.ipynb",
      "provenance": [],
      "authorship_tag": "ABX9TyP5x3ARB2Jgw+CaJX8ga9jV",
      "include_colab_link": true
    },
    "kernelspec": {
      "name": "python3",
      "display_name": "Python 3"
    },
    "language_info": {
      "name": "python"
    }
  },
  "cells": [
    {
      "cell_type": "markdown",
      "metadata": {
        "id": "view-in-github",
        "colab_type": "text"
      },
      "source": [
        "<a href=\"https://colab.research.google.com/github/qisthinurr/Tugas_Python/blob/main/Tugas_Keempat_Qisthi_Nur_1101192487.ipynb\" target=\"_parent\"><img src=\"https://colab.research.google.com/assets/colab-badge.svg\" alt=\"Open In Colab\"/></a>"
      ]
    },
    {
      "cell_type": "markdown",
      "metadata": {
        "id": "9DXNo3aTKCeV"
      },
      "source": [
        "**Data Depresi - Tugas Keempat (Materi 5)**"
      ]
    },
    {
      "cell_type": "markdown",
      "metadata": {
        "id": "GLwl2bcHKSXW"
      },
      "source": [
        "Nama        : Qisthi Nur Rahmah\n",
        "\n",
        "NIM         : 1101192487\n",
        "\n",
        "Nama Kampus : Universitas Telkom"
      ]
    },
    {
      "cell_type": "code",
      "metadata": {
        "colab": {
          "base_uri": "https://localhost:8080/"
        },
        "id": "B8EntF06KY1N",
        "outputId": "4d5eff39-1b7c-45e4-fd40-22cd0a68e4cf"
      },
      "source": [
        "pip install pandas"
      ],
      "execution_count": 1,
      "outputs": [
        {
          "output_type": "stream",
          "name": "stdout",
          "text": [
            "Requirement already satisfied: pandas in /usr/local/lib/python3.7/dist-packages (1.1.5)\n",
            "Requirement already satisfied: numpy>=1.15.4 in /usr/local/lib/python3.7/dist-packages (from pandas) (1.19.5)\n",
            "Requirement already satisfied: pytz>=2017.2 in /usr/local/lib/python3.7/dist-packages (from pandas) (2018.9)\n",
            "Requirement already satisfied: python-dateutil>=2.7.3 in /usr/local/lib/python3.7/dist-packages (from pandas) (2.8.2)\n",
            "Requirement already satisfied: six>=1.5 in /usr/local/lib/python3.7/dist-packages (from python-dateutil>=2.7.3->pandas) (1.15.0)\n"
          ]
        }
      ]
    },
    {
      "cell_type": "code",
      "metadata": {
        "colab": {
          "base_uri": "https://localhost:8080/",
          "height": 421
        },
        "id": "hrUituc2MbPy",
        "outputId": "1d768a73-d8bf-4c92-8c17-8189b5b39f4d"
      },
      "source": [
        "import pandas as pd\n",
        "data = pd.read_csv('Depresi.csv')\n",
        "data.head(20)"
      ],
      "execution_count": 3,
      "outputs": [
        {
          "output_type": "execute_result",
          "data": {
            "text/html": [
              "<div>\n",
              "<style scoped>\n",
              "    .dataframe tbody tr th:only-of-type {\n",
              "        vertical-align: middle;\n",
              "    }\n",
              "\n",
              "    .dataframe tbody tr th {\n",
              "        vertical-align: top;\n",
              "    }\n",
              "\n",
              "    .dataframe thead th {\n",
              "        text-align: right;\n",
              "    }\n",
              "</style>\n",
              "<table border=\"1\" class=\"dataframe\">\n",
              "  <thead>\n",
              "    <tr style=\"text-align: right;\">\n",
              "      <th></th>\n",
              "      <th>Pendidikan</th>\n",
              "      <th>Pendapatan</th>\n",
              "      <th>Umur</th>\n",
              "      <th>Kemungkinan Depresi</th>\n",
              "    </tr>\n",
              "  </thead>\n",
              "  <tbody>\n",
              "    <tr>\n",
              "      <th>0</th>\n",
              "      <td>SD</td>\n",
              "      <td>300000.0</td>\n",
              "      <td>50.0</td>\n",
              "      <td>Ya</td>\n",
              "    </tr>\n",
              "    <tr>\n",
              "      <th>1</th>\n",
              "      <td>SD</td>\n",
              "      <td>3000000.0</td>\n",
              "      <td>30.0</td>\n",
              "      <td>Tidak</td>\n",
              "    </tr>\n",
              "    <tr>\n",
              "      <th>2</th>\n",
              "      <td>SMA</td>\n",
              "      <td>30000.0</td>\n",
              "      <td>17.0</td>\n",
              "      <td>Tidak</td>\n",
              "    </tr>\n",
              "    <tr>\n",
              "      <th>3</th>\n",
              "      <td>S1</td>\n",
              "      <td>5000000.0</td>\n",
              "      <td>40.0</td>\n",
              "      <td>Ya</td>\n",
              "    </tr>\n",
              "    <tr>\n",
              "      <th>4</th>\n",
              "      <td>S2</td>\n",
              "      <td>1900000.0</td>\n",
              "      <td>NaN</td>\n",
              "      <td>Tidak</td>\n",
              "    </tr>\n",
              "    <tr>\n",
              "      <th>5</th>\n",
              "      <td>SMP</td>\n",
              "      <td>2125000.0</td>\n",
              "      <td>58.0</td>\n",
              "      <td>Ya</td>\n",
              "    </tr>\n",
              "    <tr>\n",
              "      <th>6</th>\n",
              "      <td>SD</td>\n",
              "      <td>554000.0</td>\n",
              "      <td>26.0</td>\n",
              "      <td>Ya</td>\n",
              "    </tr>\n",
              "    <tr>\n",
              "      <th>7</th>\n",
              "      <td>SMK</td>\n",
              "      <td>NaN</td>\n",
              "      <td>40.0</td>\n",
              "      <td>Tidak</td>\n",
              "    </tr>\n",
              "    <tr>\n",
              "      <th>8</th>\n",
              "      <td>SD</td>\n",
              "      <td>980000.0</td>\n",
              "      <td>33.0</td>\n",
              "      <td>Tidak</td>\n",
              "    </tr>\n",
              "    <tr>\n",
              "      <th>9</th>\n",
              "      <td>SD</td>\n",
              "      <td>2794000.0</td>\n",
              "      <td>35.0</td>\n",
              "      <td>Tidak</td>\n",
              "    </tr>\n",
              "    <tr>\n",
              "      <th>10</th>\n",
              "      <td>SMK</td>\n",
              "      <td>583000.0</td>\n",
              "      <td>43.0</td>\n",
              "      <td>Tidak</td>\n",
              "    </tr>\n",
              "    <tr>\n",
              "      <th>11</th>\n",
              "      <td>SMK</td>\n",
              "      <td>2329000.0</td>\n",
              "      <td>70.0</td>\n",
              "      <td>Tidak</td>\n",
              "    </tr>\n",
              "  </tbody>\n",
              "</table>\n",
              "</div>"
            ],
            "text/plain": [
              "   Pendidikan  Pendapatan  Umur Kemungkinan Depresi\n",
              "0          SD    300000.0  50.0                  Ya\n",
              "1          SD   3000000.0  30.0               Tidak\n",
              "2         SMA     30000.0  17.0               Tidak\n",
              "3          S1   5000000.0  40.0                  Ya\n",
              "4          S2   1900000.0   NaN               Tidak\n",
              "5         SMP   2125000.0  58.0                  Ya\n",
              "6          SD    554000.0  26.0                  Ya\n",
              "7         SMK         NaN  40.0               Tidak\n",
              "8          SD    980000.0  33.0               Tidak\n",
              "9          SD   2794000.0  35.0               Tidak\n",
              "10        SMK    583000.0  43.0               Tidak\n",
              "11        SMK   2329000.0  70.0               Tidak"
            ]
          },
          "metadata": {},
          "execution_count": 3
        }
      ]
    },
    {
      "cell_type": "code",
      "metadata": {
        "colab": {
          "base_uri": "https://localhost:8080/"
        },
        "id": "PQNyjafAQCj_",
        "outputId": "9bd5177c-444d-4125-b638-4dc08a409bcf"
      },
      "source": [
        "data.isna().sum()"
      ],
      "execution_count": 4,
      "outputs": [
        {
          "output_type": "execute_result",
          "data": {
            "text/plain": [
              "Pendidikan             0\n",
              "Pendapatan             1\n",
              "Umur                   1\n",
              "Kemungkinan Depresi    0\n",
              "dtype: int64"
            ]
          },
          "metadata": {},
          "execution_count": 4
        }
      ]
    },
    {
      "cell_type": "code",
      "metadata": {
        "colab": {
          "base_uri": "https://localhost:8080/",
          "height": 359
        },
        "id": "T7zMTPbDQHpn",
        "outputId": "40420204-99a3-4548-cb2f-957a8d42e281"
      },
      "source": [
        "data1 = data.dropna (axis=0)\n",
        "data1.head(20)"
      ],
      "execution_count": 10,
      "outputs": [
        {
          "output_type": "execute_result",
          "data": {
            "text/html": [
              "<div>\n",
              "<style scoped>\n",
              "    .dataframe tbody tr th:only-of-type {\n",
              "        vertical-align: middle;\n",
              "    }\n",
              "\n",
              "    .dataframe tbody tr th {\n",
              "        vertical-align: top;\n",
              "    }\n",
              "\n",
              "    .dataframe thead th {\n",
              "        text-align: right;\n",
              "    }\n",
              "</style>\n",
              "<table border=\"1\" class=\"dataframe\">\n",
              "  <thead>\n",
              "    <tr style=\"text-align: right;\">\n",
              "      <th></th>\n",
              "      <th>Pendidikan</th>\n",
              "      <th>Pendapatan</th>\n",
              "      <th>Umur</th>\n",
              "      <th>Kemungkinan Depresi</th>\n",
              "    </tr>\n",
              "  </thead>\n",
              "  <tbody>\n",
              "    <tr>\n",
              "      <th>0</th>\n",
              "      <td>SD</td>\n",
              "      <td>300000.0</td>\n",
              "      <td>50.0</td>\n",
              "      <td>Ya</td>\n",
              "    </tr>\n",
              "    <tr>\n",
              "      <th>1</th>\n",
              "      <td>SD</td>\n",
              "      <td>3000000.0</td>\n",
              "      <td>30.0</td>\n",
              "      <td>Tidak</td>\n",
              "    </tr>\n",
              "    <tr>\n",
              "      <th>2</th>\n",
              "      <td>SMA</td>\n",
              "      <td>30000.0</td>\n",
              "      <td>17.0</td>\n",
              "      <td>Tidak</td>\n",
              "    </tr>\n",
              "    <tr>\n",
              "      <th>3</th>\n",
              "      <td>S1</td>\n",
              "      <td>5000000.0</td>\n",
              "      <td>40.0</td>\n",
              "      <td>Ya</td>\n",
              "    </tr>\n",
              "    <tr>\n",
              "      <th>5</th>\n",
              "      <td>SMP</td>\n",
              "      <td>2125000.0</td>\n",
              "      <td>58.0</td>\n",
              "      <td>Ya</td>\n",
              "    </tr>\n",
              "    <tr>\n",
              "      <th>6</th>\n",
              "      <td>SD</td>\n",
              "      <td>554000.0</td>\n",
              "      <td>26.0</td>\n",
              "      <td>Ya</td>\n",
              "    </tr>\n",
              "    <tr>\n",
              "      <th>8</th>\n",
              "      <td>SD</td>\n",
              "      <td>980000.0</td>\n",
              "      <td>33.0</td>\n",
              "      <td>Tidak</td>\n",
              "    </tr>\n",
              "    <tr>\n",
              "      <th>9</th>\n",
              "      <td>SD</td>\n",
              "      <td>2794000.0</td>\n",
              "      <td>35.0</td>\n",
              "      <td>Tidak</td>\n",
              "    </tr>\n",
              "    <tr>\n",
              "      <th>10</th>\n",
              "      <td>SMK</td>\n",
              "      <td>583000.0</td>\n",
              "      <td>43.0</td>\n",
              "      <td>Tidak</td>\n",
              "    </tr>\n",
              "    <tr>\n",
              "      <th>11</th>\n",
              "      <td>SMK</td>\n",
              "      <td>2329000.0</td>\n",
              "      <td>70.0</td>\n",
              "      <td>Tidak</td>\n",
              "    </tr>\n",
              "  </tbody>\n",
              "</table>\n",
              "</div>"
            ],
            "text/plain": [
              "   Pendidikan  Pendapatan  Umur Kemungkinan Depresi\n",
              "0          SD    300000.0  50.0                  Ya\n",
              "1          SD   3000000.0  30.0               Tidak\n",
              "2         SMA     30000.0  17.0               Tidak\n",
              "3          S1   5000000.0  40.0                  Ya\n",
              "5         SMP   2125000.0  58.0                  Ya\n",
              "6          SD    554000.0  26.0                  Ya\n",
              "8          SD    980000.0  33.0               Tidak\n",
              "9          SD   2794000.0  35.0               Tidak\n",
              "10        SMK    583000.0  43.0               Tidak\n",
              "11        SMK   2329000.0  70.0               Tidak"
            ]
          },
          "metadata": {},
          "execution_count": 10
        }
      ]
    },
    {
      "cell_type": "code",
      "metadata": {
        "colab": {
          "base_uri": "https://localhost:8080/",
          "height": 421
        },
        "id": "34W7uHIqSMN5",
        "outputId": "021af9b9-5208-4f0e-8937-c66859f7aa57"
      },
      "source": [
        "data2 = data.dropna (axis=1)\n",
        "data2.head(20)"
      ],
      "execution_count": 8,
      "outputs": [
        {
          "output_type": "execute_result",
          "data": {
            "text/html": [
              "<div>\n",
              "<style scoped>\n",
              "    .dataframe tbody tr th:only-of-type {\n",
              "        vertical-align: middle;\n",
              "    }\n",
              "\n",
              "    .dataframe tbody tr th {\n",
              "        vertical-align: top;\n",
              "    }\n",
              "\n",
              "    .dataframe thead th {\n",
              "        text-align: right;\n",
              "    }\n",
              "</style>\n",
              "<table border=\"1\" class=\"dataframe\">\n",
              "  <thead>\n",
              "    <tr style=\"text-align: right;\">\n",
              "      <th></th>\n",
              "      <th>Pendidikan</th>\n",
              "      <th>Kemungkinan Depresi</th>\n",
              "    </tr>\n",
              "  </thead>\n",
              "  <tbody>\n",
              "    <tr>\n",
              "      <th>0</th>\n",
              "      <td>SD</td>\n",
              "      <td>Ya</td>\n",
              "    </tr>\n",
              "    <tr>\n",
              "      <th>1</th>\n",
              "      <td>SD</td>\n",
              "      <td>Tidak</td>\n",
              "    </tr>\n",
              "    <tr>\n",
              "      <th>2</th>\n",
              "      <td>SMA</td>\n",
              "      <td>Tidak</td>\n",
              "    </tr>\n",
              "    <tr>\n",
              "      <th>3</th>\n",
              "      <td>S1</td>\n",
              "      <td>Ya</td>\n",
              "    </tr>\n",
              "    <tr>\n",
              "      <th>4</th>\n",
              "      <td>S2</td>\n",
              "      <td>Tidak</td>\n",
              "    </tr>\n",
              "    <tr>\n",
              "      <th>5</th>\n",
              "      <td>SMP</td>\n",
              "      <td>Ya</td>\n",
              "    </tr>\n",
              "    <tr>\n",
              "      <th>6</th>\n",
              "      <td>SD</td>\n",
              "      <td>Ya</td>\n",
              "    </tr>\n",
              "    <tr>\n",
              "      <th>7</th>\n",
              "      <td>SMK</td>\n",
              "      <td>Tidak</td>\n",
              "    </tr>\n",
              "    <tr>\n",
              "      <th>8</th>\n",
              "      <td>SD</td>\n",
              "      <td>Tidak</td>\n",
              "    </tr>\n",
              "    <tr>\n",
              "      <th>9</th>\n",
              "      <td>SD</td>\n",
              "      <td>Tidak</td>\n",
              "    </tr>\n",
              "    <tr>\n",
              "      <th>10</th>\n",
              "      <td>SMK</td>\n",
              "      <td>Tidak</td>\n",
              "    </tr>\n",
              "    <tr>\n",
              "      <th>11</th>\n",
              "      <td>SMK</td>\n",
              "      <td>Tidak</td>\n",
              "    </tr>\n",
              "  </tbody>\n",
              "</table>\n",
              "</div>"
            ],
            "text/plain": [
              "   Pendidikan Kemungkinan Depresi\n",
              "0          SD                  Ya\n",
              "1          SD               Tidak\n",
              "2         SMA               Tidak\n",
              "3          S1                  Ya\n",
              "4          S2               Tidak\n",
              "5         SMP                  Ya\n",
              "6          SD                  Ya\n",
              "7         SMK               Tidak\n",
              "8          SD               Tidak\n",
              "9          SD               Tidak\n",
              "10        SMK               Tidak\n",
              "11        SMK               Tidak"
            ]
          },
          "metadata": {},
          "execution_count": 8
        }
      ]
    },
    {
      "cell_type": "code",
      "metadata": {
        "colab": {
          "base_uri": "https://localhost:8080/"
        },
        "id": "0JXGDOCOTk20",
        "outputId": "f0e7a461-5ea1-4c71-e5be-befefc3f5ace"
      },
      "source": [
        "data.isna().sum()"
      ],
      "execution_count": 11,
      "outputs": [
        {
          "output_type": "execute_result",
          "data": {
            "text/plain": [
              "Pendidikan             0\n",
              "Pendapatan             1\n",
              "Umur                   1\n",
              "Kemungkinan Depresi    0\n",
              "dtype: int64"
            ]
          },
          "metadata": {},
          "execution_count": 11
        }
      ]
    },
    {
      "cell_type": "code",
      "metadata": {
        "colab": {
          "base_uri": "https://localhost:8080/"
        },
        "id": "0WCYn-e-T3P6",
        "outputId": "0046c8c8-6b0a-4027-d1a4-24f686a729d7"
      },
      "source": [
        "data.dtypes"
      ],
      "execution_count": 12,
      "outputs": [
        {
          "output_type": "execute_result",
          "data": {
            "text/plain": [
              "Pendidikan              object\n",
              "Pendapatan             float64\n",
              "Umur                   float64\n",
              "Kemungkinan Depresi     object\n",
              "dtype: object"
            ]
          },
          "metadata": {},
          "execution_count": 12
        }
      ]
    },
    {
      "cell_type": "code",
      "metadata": {
        "colab": {
          "base_uri": "https://localhost:8080/"
        },
        "id": "tCz6tLIJT7Jq",
        "outputId": "d07db78d-dd78-43e5-ea3c-fcd421d99328"
      },
      "source": [
        "import numpy as np\n",
        "numeric = data.select_dtypes(include=np.number)\n",
        "numeric_columns = numeric.columns\n",
        "print(numeric_columns)"
      ],
      "execution_count": 13,
      "outputs": [
        {
          "output_type": "stream",
          "name": "stdout",
          "text": [
            "Index(['Pendapatan', 'Umur'], dtype='object')\n"
          ]
        }
      ]
    },
    {
      "cell_type": "code",
      "metadata": {
        "colab": {
          "base_uri": "https://localhost:8080/",
          "height": 421
        },
        "id": "g9NEmmdpUDOW",
        "outputId": "83c83230-6b4e-4ce7-ff9c-aca065004306"
      },
      "source": [
        "data[numeric_columns] = data[numeric_columns].fillna(data.mean())\n",
        "data.head(20)"
      ],
      "execution_count": 19,
      "outputs": [
        {
          "output_type": "execute_result",
          "data": {
            "text/html": [
              "<div>\n",
              "<style scoped>\n",
              "    .dataframe tbody tr th:only-of-type {\n",
              "        vertical-align: middle;\n",
              "    }\n",
              "\n",
              "    .dataframe tbody tr th {\n",
              "        vertical-align: top;\n",
              "    }\n",
              "\n",
              "    .dataframe thead th {\n",
              "        text-align: right;\n",
              "    }\n",
              "</style>\n",
              "<table border=\"1\" class=\"dataframe\">\n",
              "  <thead>\n",
              "    <tr style=\"text-align: right;\">\n",
              "      <th></th>\n",
              "      <th>Pendidikan</th>\n",
              "      <th>Pendapatan</th>\n",
              "      <th>Umur</th>\n",
              "      <th>Kemungkinan Depresi</th>\n",
              "    </tr>\n",
              "  </thead>\n",
              "  <tbody>\n",
              "    <tr>\n",
              "      <th>0</th>\n",
              "      <td>SD</td>\n",
              "      <td>3.000000e+05</td>\n",
              "      <td>50.000000</td>\n",
              "      <td>Ya</td>\n",
              "    </tr>\n",
              "    <tr>\n",
              "      <th>1</th>\n",
              "      <td>SD</td>\n",
              "      <td>3.000000e+06</td>\n",
              "      <td>30.000000</td>\n",
              "      <td>Tidak</td>\n",
              "    </tr>\n",
              "    <tr>\n",
              "      <th>2</th>\n",
              "      <td>SMA</td>\n",
              "      <td>3.000000e+04</td>\n",
              "      <td>17.000000</td>\n",
              "      <td>Tidak</td>\n",
              "    </tr>\n",
              "    <tr>\n",
              "      <th>3</th>\n",
              "      <td>S1</td>\n",
              "      <td>5.000000e+06</td>\n",
              "      <td>40.000000</td>\n",
              "      <td>Ya</td>\n",
              "    </tr>\n",
              "    <tr>\n",
              "      <th>4</th>\n",
              "      <td>S2</td>\n",
              "      <td>1.900000e+06</td>\n",
              "      <td>40.181818</td>\n",
              "      <td>Tidak</td>\n",
              "    </tr>\n",
              "    <tr>\n",
              "      <th>5</th>\n",
              "      <td>SMP</td>\n",
              "      <td>2.125000e+06</td>\n",
              "      <td>58.000000</td>\n",
              "      <td>Ya</td>\n",
              "    </tr>\n",
              "    <tr>\n",
              "      <th>6</th>\n",
              "      <td>SD</td>\n",
              "      <td>5.540000e+05</td>\n",
              "      <td>26.000000</td>\n",
              "      <td>Ya</td>\n",
              "    </tr>\n",
              "    <tr>\n",
              "      <th>7</th>\n",
              "      <td>SMK</td>\n",
              "      <td>1.781364e+06</td>\n",
              "      <td>40.000000</td>\n",
              "      <td>Tidak</td>\n",
              "    </tr>\n",
              "    <tr>\n",
              "      <th>8</th>\n",
              "      <td>SD</td>\n",
              "      <td>9.800000e+05</td>\n",
              "      <td>33.000000</td>\n",
              "      <td>Tidak</td>\n",
              "    </tr>\n",
              "    <tr>\n",
              "      <th>9</th>\n",
              "      <td>SD</td>\n",
              "      <td>2.794000e+06</td>\n",
              "      <td>35.000000</td>\n",
              "      <td>Tidak</td>\n",
              "    </tr>\n",
              "    <tr>\n",
              "      <th>10</th>\n",
              "      <td>SMK</td>\n",
              "      <td>5.830000e+05</td>\n",
              "      <td>43.000000</td>\n",
              "      <td>Tidak</td>\n",
              "    </tr>\n",
              "    <tr>\n",
              "      <th>11</th>\n",
              "      <td>SMK</td>\n",
              "      <td>2.329000e+06</td>\n",
              "      <td>70.000000</td>\n",
              "      <td>Tidak</td>\n",
              "    </tr>\n",
              "  </tbody>\n",
              "</table>\n",
              "</div>"
            ],
            "text/plain": [
              "   Pendidikan    Pendapatan       Umur Kemungkinan Depresi\n",
              "0          SD  3.000000e+05  50.000000                  Ya\n",
              "1          SD  3.000000e+06  30.000000               Tidak\n",
              "2         SMA  3.000000e+04  17.000000               Tidak\n",
              "3          S1  5.000000e+06  40.000000                  Ya\n",
              "4          S2  1.900000e+06  40.181818               Tidak\n",
              "5         SMP  2.125000e+06  58.000000                  Ya\n",
              "6          SD  5.540000e+05  26.000000                  Ya\n",
              "7         SMK  1.781364e+06  40.000000               Tidak\n",
              "8          SD  9.800000e+05  33.000000               Tidak\n",
              "9          SD  2.794000e+06  35.000000               Tidak\n",
              "10        SMK  5.830000e+05  43.000000               Tidak\n",
              "11        SMK  2.329000e+06  70.000000               Tidak"
            ]
          },
          "metadata": {},
          "execution_count": 19
        }
      ]
    },
    {
      "cell_type": "code",
      "metadata": {
        "colab": {
          "base_uri": "https://localhost:8080/"
        },
        "id": "N7YXoHUYVgTZ",
        "outputId": "3221d2f3-a520-4725-e273-80505d8fac0a"
      },
      "source": [
        "data.isna().sum()"
      ],
      "execution_count": 20,
      "outputs": [
        {
          "output_type": "execute_result",
          "data": {
            "text/plain": [
              "Pendidikan             0\n",
              "Pendapatan             0\n",
              "Umur                   0\n",
              "Kemungkinan Depresi    0\n",
              "dtype: int64"
            ]
          },
          "metadata": {},
          "execution_count": 20
        }
      ]
    }
  ]
}