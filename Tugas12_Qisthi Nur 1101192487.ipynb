{
  "nbformat": 4,
  "nbformat_minor": 0,
  "metadata": {
    "colab": {
      "name": "Untitled2.ipynb",
      "provenance": [],
      "authorship_tag": "ABX9TyPphRg+kgoHakgvaeJJTIwj",
      "include_colab_link": true
    },
    "kernelspec": {
      "name": "python3",
      "display_name": "Python 3"
    }
  },
  "cells": [
    {
      "cell_type": "markdown",
      "metadata": {
        "id": "view-in-github",
        "colab_type": "text"
      },
      "source": [
        "<a href=\"https://colab.research.google.com/github/qisthinurr/Tugas_Python/blob/main/Tugas12_Qisthi%20Nur%201101192487.ipynb\" target=\"_parent\"><img src=\"https://colab.research.google.com/assets/colab-badge.svg\" alt=\"Open In Colab\"/></a>"
      ]
    },
    {
      "cell_type": "code",
      "metadata": {
        "id": "q67_EEz9KGm1"
      },
      "source": [
        "import numpy as np"
      ],
      "execution_count": 19,
      "outputs": []
    },
    {
      "cell_type": "code",
      "metadata": {
        "id": "fUhU8lbXKfbQ"
      },
      "source": [
        "def C1(a) : \r\n",
        "    if a >= 400 and a <= 1500 :\r\n",
        "        return 69.55\r\n",
        "    elif a > 1500 and a <= 2000 :\r\n",
        "        return 46.3"
      ],
      "execution_count": 20,
      "outputs": []
    },
    {
      "cell_type": "code",
      "metadata": {
        "id": "62Ytp3jSNuDM"
      },
      "source": [
        "def C2(a) : \r\n",
        "    if a >= 400 and a <= 1500 :\r\n",
        "        return 26.16\r\n",
        "    elif a > 1500 and a <= 2000 :\r\n",
        "        return 33.9"
      ],
      "execution_count": 21,
      "outputs": []
    },
    {
      "cell_type": "code",
      "metadata": {
        "id": "oyYpB4-RNwoG"
      },
      "source": [
        "def z(a, b) : \r\n",
        "    return (((1.1*np.log10(b))-0.7)*a) - ((1.56*np.log10(b))-0.8)"
      ],
      "execution_count": 22,
      "outputs": []
    },
    {
      "cell_type": "code",
      "metadata": {
        "id": "HbV8dNU4N2R2"
      },
      "source": [
        "def Cm(a, b) : \r\n",
        "    if a == 1 :\r\n",
        "        return 0\r\n",
        "    elif a == 2 :\r\n",
        "        return (-2*((np.log10(b/28))**2))-5.4\r\n",
        "    else :\r\n",
        "        return (-4.78*((np.log10(b))**2))+(18.33*np.log10(b))-40.94"
      ],
      "execution_count": 23,
      "outputs": []
    },
    {
      "cell_type": "code",
      "metadata": {
        "id": "gfi0b7hcN4xf"
      },
      "source": [
        "def PathLoss(d, f, Type_Cm, hT, hR) :\r\n",
        "  return C1(f)+(C2(f)*np.log10(f))-(13.83*np.log10(hT))-z(hR, f)+((44.9-(6.55*np.log10(hT)))*np.log10(d))+Cm(Type_Cm, f)"
      ],
      "execution_count": 24,
      "outputs": []
    },
    {
      "cell_type": "code",
      "metadata": {
        "colab": {
          "base_uri": "https://localhost:8080/"
        },
        "id": "tKprVBiMSUN3",
        "outputId": "44b0f5a3-e445-4e79-ac3d-af5fc04968f2"
      },
      "source": [
        "PL=PathLoss(1000,1000,1,50,25)\r\n",
        "print(\"Pathloss dalam db =\",PL,\"dB\")"
      ],
      "execution_count": 25,
      "outputs": [
        {
          "output_type": "stream",
          "text": [
            "Pathloss dalam db = 164.72848425483008 dB\n"
          ],
          "name": "stdout"
        }
      ]
    }
  ]
}